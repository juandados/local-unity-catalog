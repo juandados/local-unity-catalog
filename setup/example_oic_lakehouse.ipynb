{
 "cells": [
  {
   "cell_type": "markdown",
   "id": "c05ff26b-fe8f-48d8-896e-39456ddf8b18",
   "metadata": {},
   "source": [
    "## Example: OIC - DataLakeHouse"
   ]
  },
  {
   "cell_type": "code",
   "execution_count": 1,
   "id": "e1d10f57-4d58-4488-b286-a1152eef0a0f",
   "metadata": {
    "scrolled": true
   },
   "outputs": [
    {
     "name": "stdout",
     "output_type": "stream",
     "text": [
      ":: loading settings :: url = jar:file:/opt/spark/jars/ivy-2.5.1.jar!/org/apache/ivy/core/settings/ivysettings.xml\n"
     ]
    },
    {
     "name": "stderr",
     "output_type": "stream",
     "text": [
      "Ivy Default Cache set to: /root/.ivy2/cache\n",
      "The jars for the packages stored in: /root/.ivy2/jars\n",
      "io.delta#delta-spark_2.12 added as a dependency\n",
      "io.unitycatalog#unitycatalog-spark_2.12 added as a dependency\n",
      ":: resolving dependencies :: org.apache.spark#spark-submit-parent-399936b1-d21c-42fe-90bc-38406071b7ca;1.0\n",
      "\tconfs: [default]\n",
      "\tfound io.delta#delta-spark_2.12;3.2.1 in central\n",
      "\tfound io.delta#delta-storage;3.2.1 in central\n",
      "\tfound org.antlr#antlr4-runtime;4.9.3 in central\n",
      "\tfound io.unitycatalog#unitycatalog-spark_2.12;0.2.1 in central\n",
      "\tfound io.unitycatalog#unitycatalog-client;0.2.1 in central\n",
      "\tfound org.slf4j#slf4j-api;2.0.13 in central\n",
      "\tfound org.apache.logging.log4j#log4j-slf4j2-impl;2.23.1 in central\n",
      "\tfound org.apache.logging.log4j#log4j-api;2.23.1 in central\n",
      "\tfound org.apache.logging.log4j#log4j-core;2.23.1 in central\n",
      "\tfound com.fasterxml.jackson.datatype#jackson-datatype-jsr310;2.17.0 in central\n",
      "\tfound org.openapitools#jackson-databind-nullable;0.2.6 in central\n",
      "\tfound com.google.code.findbugs#jsr305;3.0.2 in central\n",
      "\tfound com.fasterxml.jackson.core#jackson-databind;2.15.0 in central\n",
      "\tfound com.fasterxml.jackson.core#jackson-annotations;2.15.0 in central\n",
      "\tfound com.fasterxml.jackson.core#jackson-core;2.15.0 in central\n",
      "\tfound com.fasterxml.jackson.module#jackson-module-scala_2.12;2.15.0 in central\n",
      "\tfound com.thoughtworks.paranamer#paranamer;2.8 in central\n",
      "\tfound com.fasterxml.jackson.dataformat#jackson-dataformat-xml;2.15.0 in central\n",
      "\tfound org.codehaus.woodstox#stax2-api;4.2.1 in central\n",
      "\tfound com.fasterxml.woodstox#woodstox-core;6.5.1 in central\n",
      "\tfound org.antlr#antlr4;4.9.3 in central\n",
      "\tfound org.antlr#antlr-runtime;3.5.2 in central\n",
      "\tfound org.antlr#ST4;4.3.1 in central\n",
      "\tfound org.abego.treelayout#org.abego.treelayout.core;1.0.3 in central\n",
      "\tfound org.glassfish#javax.json;1.0.4 in central\n",
      "\tfound com.ibm.icu#icu4j;69.1 in central\n",
      "\tfound org.apache.hadoop#hadoop-client-runtime;3.4.0 in central\n",
      "\tfound org.apache.hadoop#hadoop-client-api;3.4.0 in central\n",
      "\tfound org.xerial.snappy#snappy-java;1.1.10.4 in central\n",
      "\tfound commons-logging#commons-logging;1.2 in central\n",
      ":: resolution report :: resolve 715ms :: artifacts dl 39ms\n",
      "\t:: modules in use:\n",
      "\tcom.fasterxml.jackson.core#jackson-annotations;2.15.0 from central in [default]\n",
      "\tcom.fasterxml.jackson.core#jackson-core;2.15.0 from central in [default]\n",
      "\tcom.fasterxml.jackson.core#jackson-databind;2.15.0 from central in [default]\n",
      "\tcom.fasterxml.jackson.dataformat#jackson-dataformat-xml;2.15.0 from central in [default]\n",
      "\tcom.fasterxml.jackson.datatype#jackson-datatype-jsr310;2.17.0 from central in [default]\n",
      "\tcom.fasterxml.jackson.module#jackson-module-scala_2.12;2.15.0 from central in [default]\n",
      "\tcom.fasterxml.woodstox#woodstox-core;6.5.1 from central in [default]\n",
      "\tcom.google.code.findbugs#jsr305;3.0.2 from central in [default]\n",
      "\tcom.ibm.icu#icu4j;69.1 from central in [default]\n",
      "\tcom.thoughtworks.paranamer#paranamer;2.8 from central in [default]\n",
      "\tcommons-logging#commons-logging;1.2 from central in [default]\n",
      "\tio.delta#delta-spark_2.12;3.2.1 from central in [default]\n",
      "\tio.delta#delta-storage;3.2.1 from central in [default]\n",
      "\tio.unitycatalog#unitycatalog-client;0.2.1 from central in [default]\n",
      "\tio.unitycatalog#unitycatalog-spark_2.12;0.2.1 from central in [default]\n",
      "\torg.abego.treelayout#org.abego.treelayout.core;1.0.3 from central in [default]\n",
      "\torg.antlr#ST4;4.3.1 from central in [default]\n",
      "\torg.antlr#antlr-runtime;3.5.2 from central in [default]\n",
      "\torg.antlr#antlr4;4.9.3 from central in [default]\n",
      "\torg.antlr#antlr4-runtime;4.9.3 from central in [default]\n",
      "\torg.apache.hadoop#hadoop-client-api;3.4.0 from central in [default]\n",
      "\torg.apache.hadoop#hadoop-client-runtime;3.4.0 from central in [default]\n",
      "\torg.apache.logging.log4j#log4j-api;2.23.1 from central in [default]\n",
      "\torg.apache.logging.log4j#log4j-core;2.23.1 from central in [default]\n",
      "\torg.apache.logging.log4j#log4j-slf4j2-impl;2.23.1 from central in [default]\n",
      "\torg.codehaus.woodstox#stax2-api;4.2.1 from central in [default]\n",
      "\torg.glassfish#javax.json;1.0.4 from central in [default]\n",
      "\torg.openapitools#jackson-databind-nullable;0.2.6 from central in [default]\n",
      "\torg.slf4j#slf4j-api;2.0.13 from central in [default]\n",
      "\torg.xerial.snappy#snappy-java;1.1.10.4 from central in [default]\n",
      "\t:: evicted modules:\n",
      "\torg.slf4j#slf4j-api;2.0.9 by [org.slf4j#slf4j-api;2.0.13] in [default]\n",
      "\tcom.fasterxml.jackson.core#jackson-annotations;2.17.0 by [com.fasterxml.jackson.core#jackson-annotations;2.15.0] in [default]\n",
      "\tcom.fasterxml.jackson.core#jackson-core;2.17.0 by [com.fasterxml.jackson.core#jackson-core;2.15.0] in [default]\n",
      "\tcom.fasterxml.jackson.core#jackson-databind;2.17.0 by [com.fasterxml.jackson.core#jackson-databind;2.15.0] in [default]\n",
      "\tcom.fasterxml.jackson.core#jackson-databind;2.14.0-rc2 by [com.fasterxml.jackson.core#jackson-databind;2.15.0] in [default]\n",
      "\torg.slf4j#slf4j-api;1.7.36 by [org.slf4j#slf4j-api;2.0.13] in [default]\n",
      "\t---------------------------------------------------------------------\n",
      "\t|                  |            modules            ||   artifacts   |\n",
      "\t|       conf       | number| search|dwnlded|evicted|| number|dwnlded|\n",
      "\t---------------------------------------------------------------------\n",
      "\t|      default     |   36  |   0   |   0   |   6   ||   30  |   0   |\n",
      "\t---------------------------------------------------------------------\n",
      ":: retrieving :: org.apache.spark#spark-submit-parent-399936b1-d21c-42fe-90bc-38406071b7ca\n",
      "\tconfs: [default]\n",
      "\t0 artifacts copied, 30 already retrieved (0kB/20ms)\n",
      "25/06/26 12:30:11 WARN NativeCodeLoader: Unable to load native-hadoop library for your platform... using builtin-java classes where applicable\n",
      "Setting default log level to \"WARN\".\n",
      "To adjust logging level use sc.setLogLevel(newLevel). For SparkR, use setLogLevel(newLevel).\n"
     ]
    }
   ],
   "source": [
    "from pyspark.sql import SparkSession\n",
    "\n",
    "spark = SparkSession.builder \\\n",
    "    .appName(\"local-uc-test\") \\\n",
    "    .master(\"local[*]\") \\\n",
    "    .config(\"spark.jars.packages\", \"io.delta:delta-spark_2.12:3.2.1,io.unitycatalog:unitycatalog-spark_2.12:0.2.1\") \\\n",
    "    .config(\"spark.sql.extensions\", \"io.delta.sql.DeltaSparkSessionExtension\") \\\n",
    "    .config(\"spark.sql.catalog.spark_catalog\", \"io.unitycatalog.spark.UCSingleCatalog\") \\\n",
    "    .config(\"spark.sql.catalog.unity\", \"io.unitycatalog.spark.UCSingleCatalog\") \\\n",
    "    .config(\"spark.sql.catalog.unity.uri\", \"http://server:8080\") \\\n",
    "    .config(\"spark.sql.catalog.unity.token\", \"\") \\\n",
    "    .config(\"spark.sql.catalog.oic\", \"io.unitycatalog.spark.UCSingleCatalog\") \\\n",
    "    .config(\"spark.sql.catalog.oic.uri\", \"http://server:8080\") \\\n",
    "    .config(\"spark.sql.catalog.oic.token\", \"\") \\\n",
    "    .config(\"spark.sql.defaultCatalog\", \"unity\") \\\n",
    "    .config(\"spark.databricks.delta.catalog.update.enabled\", \"true\") \\\n",
    "    .enableHiveSupport() \\\n",
    "    .getOrCreate()"
   ]
  },
  {
   "cell_type": "code",
   "execution_count": 2,
   "id": "54c38afe-581c-41e8-b4c2-008edb55d4ac",
   "metadata": {},
   "outputs": [
    {
     "name": "stdout",
     "output_type": "stream",
     "text": [
      "+-------------+\n",
      "|      catalog|\n",
      "+-------------+\n",
      "|spark_catalog|\n",
      "|        unity|\n",
      "+-------------+\n",
      "\n",
      "+---------+--------------+-----------+\n",
      "|namespace|     tableName|isTemporary|\n",
      "+---------+--------------+-----------+\n",
      "|   bronze|divipolas_igac|      false|\n",
      "+---------+--------------+-----------+\n",
      "\n",
      "+----------------------------+--------------------------------------------------------------------------+--------------------------------------------------------------------------------------------------------------------------------------------------+\n",
      "|col_name                    |data_type                                                                 |comment                                                                                                                                           |\n",
      "+----------------------------+--------------------------------------------------------------------------+--------------------------------------------------------------------------------------------------------------------------------------------------+\n",
      "|divipola                    |string                                                                    |Código de División Político Administrativa de muncipios en Colombia con 5 dígitos. Ejemplo: 44001 (La Guajira-Riohacha), 17873 (Caldas-Villamaría)|\n",
      "|gestor_igac                 |string                                                                    |Define si el muncipio tiene como gestor catastral al IGAC                                                                                         |\n",
      "|                            |                                                                          |                                                                                                                                                  |\n",
      "|# Detailed Table Information|                                                                          |                                                                                                                                                  |\n",
      "|Name                        |oic.bronze.divipolas_igac                                                 |                                                                                                                                                  |\n",
      "|Type                        |EXTERNAL                                                                  |                                                                                                                                                  |\n",
      "|Location                    |file:/home/unitycatalog/etc/data/external/oic/bronze/tables/divipolas_igac|                                                                                                                                                  |\n",
      "|Provider                    |delta                                                                     |                                                                                                                                                  |\n",
      "|Table Properties            |[delta.minReaderVersion=1,delta.minWriterVersion=2]                       |                                                                                                                                                  |\n",
      "+----------------------------+--------------------------------------------------------------------------+--------------------------------------------------------------------------------------------------------------------------------------------------+\n",
      "\n"
     ]
    },
    {
     "name": "stderr",
     "output_type": "stream",
     "text": [
      "25/06/26 12:30:18 WARN SparkStringUtils: Truncated the string representation of a plan since it was too large. This behavior can be adjusted by setting 'spark.sql.debug.maxToStringFields'.\n",
      "                                                                                "
     ]
    },
    {
     "name": "stdout",
     "output_type": "stream",
     "text": [
      "+--------+-----------+\n",
      "|divipola|gestor_igac|\n",
      "+--------+-----------+\n",
      "|50313   |True       |\n",
      "|66687   |True       |\n",
      "|20443   |True       |\n",
      "|25322   |True       |\n",
      "|47058   |True       |\n",
      "|47660   |True       |\n",
      "|68444   |True       |\n",
      "|81794   |True       |\n",
      "|41668   |True       |\n",
      "|68500   |True       |\n",
      "|73168   |True       |\n",
      "|41503   |True       |\n",
      "|47258   |True       |\n",
      "|50680   |True       |\n",
      "|52838   |True       |\n",
      "|08436   |True       |\n",
      "|17050   |True       |\n",
      "|25175   |True       |\n",
      "|41518   |True       |\n",
      "|54673   |True       |\n",
      "+--------+-----------+\n",
      "only showing top 20 rows\n",
      "\n"
     ]
    }
   ],
   "source": [
    "# Review the configuration\n",
    "spark.sql('SHOW CATALOGS').show()\n",
    "spark.sql(\"SHOW TABLES IN oic.bronze\").show()\n",
    "spark.sql(\"DESCRIBE EXTENDED oic.bronze.divipolas_igac\").show(truncate=False)\n",
    "df = spark.table(\"oic.bronze.divipolas_igac\")\n",
    "df.show(truncate=False)"
   ]
  },
  {
   "cell_type": "code",
   "execution_count": 3,
   "id": "acaacf43-93bd-41e2-8594-dbdb557164be",
   "metadata": {},
   "outputs": [],
   "source": [
    "df.write.mode(\"overwrite\").option(\"header\", \"true\").csv(\"download/divipolas_igac.csv\")"
   ]
  },
  {
   "cell_type": "markdown",
   "id": "fa07c5d5-5f5f-4f30-99f0-a607237d5859",
   "metadata": {},
   "source": [
    "## With pandas"
   ]
  },
  {
   "cell_type": "code",
   "execution_count": 4,
   "id": "bb7c2b8f-fd75-4678-bc89-161570b4a13a",
   "metadata": {
    "scrolled": true
   },
   "outputs": [
    {
     "data": {
      "text/html": [
       "<div>\n",
       "<style scoped>\n",
       "    .dataframe tbody tr th:only-of-type {\n",
       "        vertical-align: middle;\n",
       "    }\n",
       "\n",
       "    .dataframe tbody tr th {\n",
       "        vertical-align: top;\n",
       "    }\n",
       "\n",
       "    .dataframe thead th {\n",
       "        text-align: right;\n",
       "    }\n",
       "</style>\n",
       "<table border=\"1\" class=\"dataframe\">\n",
       "  <thead>\n",
       "    <tr style=\"text-align: right;\">\n",
       "      <th></th>\n",
       "      <th>divipola</th>\n",
       "      <th>gestor_igac</th>\n",
       "    </tr>\n",
       "  </thead>\n",
       "  <tbody>\n",
       "    <tr>\n",
       "      <th>0</th>\n",
       "      <td>50313</td>\n",
       "      <td>True</td>\n",
       "    </tr>\n",
       "    <tr>\n",
       "      <th>1</th>\n",
       "      <td>66687</td>\n",
       "      <td>True</td>\n",
       "    </tr>\n",
       "    <tr>\n",
       "      <th>2</th>\n",
       "      <td>20443</td>\n",
       "      <td>True</td>\n",
       "    </tr>\n",
       "    <tr>\n",
       "      <th>3</th>\n",
       "      <td>25322</td>\n",
       "      <td>True</td>\n",
       "    </tr>\n",
       "    <tr>\n",
       "      <th>4</th>\n",
       "      <td>47058</td>\n",
       "      <td>True</td>\n",
       "    </tr>\n",
       "    <tr>\n",
       "      <th>...</th>\n",
       "      <td>...</td>\n",
       "      <td>...</td>\n",
       "    </tr>\n",
       "    <tr>\n",
       "      <th>829</th>\n",
       "      <td>15810</td>\n",
       "      <td>True</td>\n",
       "    </tr>\n",
       "    <tr>\n",
       "      <th>830</th>\n",
       "      <td>17867</td>\n",
       "      <td>True</td>\n",
       "    </tr>\n",
       "    <tr>\n",
       "      <th>831</th>\n",
       "      <td>20250</td>\n",
       "      <td>True</td>\n",
       "    </tr>\n",
       "    <tr>\n",
       "      <th>832</th>\n",
       "      <td>20570</td>\n",
       "      <td>True</td>\n",
       "    </tr>\n",
       "    <tr>\n",
       "      <th>833</th>\n",
       "      <td>25658</td>\n",
       "      <td>True</td>\n",
       "    </tr>\n",
       "  </tbody>\n",
       "</table>\n",
       "<p>834 rows × 2 columns</p>\n",
       "</div>"
      ],
      "text/plain": [
       "    divipola gestor_igac\n",
       "0      50313        True\n",
       "1      66687        True\n",
       "2      20443        True\n",
       "3      25322        True\n",
       "4      47058        True\n",
       "..       ...         ...\n",
       "829    15810        True\n",
       "830    17867        True\n",
       "831    20250        True\n",
       "832    20570        True\n",
       "833    25658        True\n",
       "\n",
       "[834 rows x 2 columns]"
      ]
     },
     "metadata": {},
     "output_type": "display_data"
    }
   ],
   "source": [
    "display(df.toPandas())"
   ]
  },
  {
   "cell_type": "code",
   "execution_count": 5,
   "id": "d725fa35-d3c8-4eca-8c63-5605a24d01a1",
   "metadata": {},
   "outputs": [],
   "source": [
    "df.toPandas().to_parquet(\"download/divipolas_igac.parquet\", index=False)"
   ]
  },
  {
   "cell_type": "code",
   "execution_count": 6,
   "id": "da22f84f",
   "metadata": {},
   "outputs": [
    {
     "name": "stdout",
     "output_type": "stream",
     "text": [
      "+-------------+\n",
      "|      catalog|\n",
      "+-------------+\n",
      "|          oic|\n",
      "|spark_catalog|\n",
      "|        unity|\n",
      "+-------------+\n",
      "\n"
     ]
    }
   ],
   "source": [
    "spark.sql('SHOW CATALOGS').show()"
   ]
  }
 ],
 "metadata": {
  "kernelspec": {
   "display_name": "Python 3 (ipykernel)",
   "language": "python",
   "name": "python3"
  },
  "language_info": {
   "codemirror_mode": {
    "name": "ipython",
    "version": 3
   },
   "file_extension": ".py",
   "mimetype": "text/x-python",
   "name": "python",
   "nbconvert_exporter": "python",
   "pygments_lexer": "ipython3",
   "version": "3.12.11"
  }
 },
 "nbformat": 4,
 "nbformat_minor": 5
}
